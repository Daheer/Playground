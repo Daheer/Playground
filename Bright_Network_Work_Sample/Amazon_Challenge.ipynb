{
 "cells": [
  {
   "cell_type": "code",
   "execution_count": 1,
   "metadata": {},
   "outputs": [],
   "source": [
    "import numpy as np\n",
    "import warnings\n",
    "warnings.filterwarnings('ignore')"
   ]
  },
  {
   "cell_type": "code",
   "execution_count": 737,
   "metadata": {},
   "outputs": [],
   "source": [
    "class Grid:\n",
    "    def __init__(self):\n",
    "        self.grid = np.zeros((10, 10)).astype(int)\n",
    "    def visualize(self):\n",
    "        print(self.grid)\n",
    "    def place_items(self, obstacles, player, goal):\n",
    "        for obstacle in obstacles:\n",
    "            self.grid[obstacle[0], obstacle[1]] = -1\n",
    "        self.grid[player.x, player.y] = 1\n",
    "        self.grid[goal[0], goal[1]] = 96 \n",
    "    def calc_penalty(self, movement, grid):\n",
    "        penalty = 0\n",
    "        x, y = movement\n",
    "        if x > 0 and y > 0 and self.grid[x - 1, y - 1] == -1: penalty += 1\n",
    "        if x < 9 and y < 9 and self.grid[x + 1, y + 1] == -1: penalty += 1\n",
    "        if x > 0 and y < 9 and self.grid[x - 1, y + 1] == -1: penalty += 1\n",
    "        if x < 9 and y > 0 and self.grid[x + 1, y - 1] == -1: penalty += 1\n",
    "        if x < 9 and self.grid[x + 1, y] == -1: penalty += 1\n",
    "        if x > 0 and self.grid[x - 1, y] == -1: penalty += 1\n",
    "        if y < 9 and self.grid[x, y + 1] == -1: penalty += 1\n",
    "        if y > 0 and self.grid[x, y - 1] == -1: penalty += 1\n",
    "        return penalty\n",
    "    def update(self, player):\n",
    "        cur_pos = player\n",
    "        directions = ['up', 'left', 'right', 'down', 'up_left', 'up_right', 'down_right', 'down_left']\n",
    "        best_dist = 100\n",
    "        best_penalty = 10\n",
    "        best_direction = ''\n",
    "        for direction in directions:\n",
    "            movement = player.move(direction)\n",
    "            dist = distance(movement, [9, 9])\n",
    "            if dist < best_dist and self.grid[movement[0], movement[1]] != -1 and dist > 0:\n",
    "                best_dist = dist\n",
    "                best_direction = direction\n",
    "        player.move(best_direction, act = True)\n",
    "        self.grid[cur_pos.x, cur_pos.y] = 0\n",
    "        self.grid[player.x, player.y] = 1\n",
    "    def add_obstacles(self, n_obstacles):\n",
    "        for i in range(n_obstacles):\n",
    "            obstacle = [np.random.randint(0, 9), np.random.randint(0, 9)]\n",
    "            if self.grid[obstacle[0], obstacle[1]] == 0:\n",
    "                self.grid[obstacle[0], obstacle[1]] = -1"
   ]
  },
  {
   "cell_type": "code",
   "execution_count": 738,
   "metadata": {
    "tags": []
   },
   "outputs": [],
   "source": [
    "class Player:\n",
    "    def __init__(self):\n",
    "        self.x = 0\n",
    "        self.y = 0\n",
    "    def move(self, direction, act = False):\n",
    "        x, y = self.x, self.y\n",
    "        if direction == 'up':\n",
    "            if x > 0: x -= 1\n",
    "            if act: self.x, self.y = x, y\n",
    "            else: return [x, y]\n",
    "        elif direction == 'down':\n",
    "            if x < 9: x += 1\n",
    "            if act: self.x, self.y = x, y\n",
    "            else: return [x, y]\n",
    "        elif direction == 'left':\n",
    "            if y > 0: y -= 1\n",
    "            if act: self.x, self.y = x, y\n",
    "            else: return [x, y]\n",
    "        elif direction == 'right':\n",
    "            if y < 9: y += 1\n",
    "            if act: self.x, self.y = x, y\n",
    "            else: return [x, y]\n",
    "        elif direction == 'up_left':\n",
    "            if x > 0 and y > 0: x, y = x - 1, y - 1\n",
    "            if act: self.x, self.y = x, y\n",
    "            else: return [x, y]\n",
    "        elif direction == 'down_left':\n",
    "            if x < 9 and y > 0: x, y = x + 1, y - 1\n",
    "            if act: self.x, self.y = x, y\n",
    "            else: return [x, y]\n",
    "        elif direction == 'up_right':\n",
    "            if x > 0 and y < 9: x, y = x - 1, y + 1\n",
    "            if act: self.x, self.y = x, y\n",
    "            else: return [x, y]\n",
    "        elif direction == 'down_right':\n",
    "            if x < 9 and y < 9: x, y = x + 1, y + 1\n",
    "            if act: self.x, self.y = x, y\n",
    "            else: return [x, y]"
   ]
  },
  {
   "cell_type": "code",
   "execution_count": 739,
   "metadata": {},
   "outputs": [],
   "source": [
    "def distance(a, b):\n",
    "    return np.sqrt((a[0] - b[0]) ** 2 + (a[1] - b[1]) ** 2)"
   ]
  },
  {
   "cell_type": "code",
   "execution_count": 759,
   "metadata": {},
   "outputs": [],
   "source": [
    "grid = Grid()\n",
    "player = Player()"
   ]
  },
  {
   "cell_type": "code",
   "execution_count": 760,
   "metadata": {},
   "outputs": [],
   "source": [
    "grid.place_items(obstacles = [[9, 7], [8, 7], [6, 7], [6, 8]], player = player, goal = [9, 9])"
   ]
  },
  {
   "cell_type": "code",
   "execution_count": 761,
   "metadata": {},
   "outputs": [
    {
     "name": "stdout",
     "output_type": "stream",
     "text": [
      "[[ 1  0  0  0  0  0  0  0  0  0]\n",
      " [ 0  0  0  0  0  0  0  0  0  0]\n",
      " [ 0  0  0  0  0  0  0  0  0  0]\n",
      " [ 0  0  0  0  0  0  0  0  0  0]\n",
      " [ 0  0  0  0  0  0  0  0  0  0]\n",
      " [ 0  0  0  0  0  0  0  0  0  0]\n",
      " [ 0  0  0  0  0  0  0 -1 -1  0]\n",
      " [ 0  0  0  0  0  0  0  0  0  0]\n",
      " [ 0  0  0  0  0  0  0 -1  0  0]\n",
      " [ 0  0  0  0  0  0  0 -1  0 96]]\n"
     ]
    }
   ],
   "source": [
    "grid.visualize()"
   ]
  },
  {
   "cell_type": "code",
   "execution_count": 762,
   "metadata": {},
   "outputs": [],
   "source": [
    "grid.add_obstacles(20)"
   ]
  },
  {
   "cell_type": "code",
   "execution_count": 763,
   "metadata": {},
   "outputs": [],
   "source": [
    "for i in range(100):\n",
    "    grid.update(player)"
   ]
  },
  {
   "cell_type": "code",
   "execution_count": 764,
   "metadata": {},
   "outputs": [
    {
     "name": "stdout",
     "output_type": "stream",
     "text": [
      "[[ 1  0 -1  0  0 -1  0  0  0  0]\n",
      " [ 0  1  0  0  0  0 -1  0  0  0]\n",
      " [ 0  0  1  1  0 -1  0  0  0  0]\n",
      " [ 0  0  0 -1  1 -1 -1 -1 -1  0]\n",
      " [ 0  0 -1  0  0  1  0  0 -1  0]\n",
      " [ 0  0  0 -1 -1  0  1  0  0  0]\n",
      " [ 0  0  0  0  0  0  1 -1 -1  0]\n",
      " [ 0  0  0 -1  0 -1 -1  1  1  0]\n",
      " [ 0  0  0 -1  0  0 -1 -1 -1  1]\n",
      " [ 0  0  0  0  0  0  0 -1  0 96]]\n"
     ]
    }
   ],
   "source": [
    "grid.visualize()"
   ]
  },
  {
   "cell_type": "code",
   "execution_count": null,
   "metadata": {},
   "outputs": [],
   "source": []
  }
 ],
 "metadata": {
  "interpreter": {
   "hash": "ba3e8c086ef45173e8ee27d46efd4c972d0775c023eca2ee23f676f654782d7f"
  },
  "kernelspec": {
   "display_name": "Python 3 (ipykernel)",
   "language": "python",
   "name": "python3"
  },
  "language_info": {
   "codemirror_mode": {
    "name": "ipython",
    "version": 3
   },
   "file_extension": ".py",
   "mimetype": "text/x-python",
   "name": "python",
   "nbconvert_exporter": "python",
   "pygments_lexer": "ipython3",
   "version": "3.10.4"
  }
 },
 "nbformat": 4,
 "nbformat_minor": 4
}
